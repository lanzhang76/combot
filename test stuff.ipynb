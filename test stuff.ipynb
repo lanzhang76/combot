{
 "cells": [
  {
   "cell_type": "markdown",
   "metadata": {},
   "source": [
    "## Testing python functions for the flask app\n",
    "below is loading the simple gpt-2 model library made by Max Woolf\n",
    "mine is fined tuned with 300+ comedy transcripts scrapped from ScriptofLoft"
   ]
  },
  {
   "cell_type": "code",
   "execution_count": 3,
   "metadata": {},
   "outputs": [],
   "source": [
    "import sys\n",
    "\n",
    "if not sys.warnoptions:\n",
    "    import warnings\n",
    "    warnings.simplefilter(\"ignore\")"
   ]
  },
  {
   "cell_type": "code",
   "execution_count": 4,
   "metadata": {},
   "outputs": [],
   "source": [
    "import gpt_2_simple as gpt2"
   ]
  },
  {
   "cell_type": "code",
   "execution_count": 5,
   "metadata": {},
   "outputs": [
    {
     "name": "stdout",
     "output_type": "stream",
     "text": [
      "Loading checkpoint checkpoint/run1/model-1000\n",
      "WARNING:tensorflow:From /opt/anaconda3/lib/python3.7/site-packages/tensorflow/python/training/saver.py:1276: checkpoint_exists (from tensorflow.python.training.checkpoint_management) is deprecated and will be removed in a future version.\n",
      "Instructions for updating:\n",
      "Use standard file APIs to check for files with this prefix.\n",
      "INFO:tensorflow:Restoring parameters from checkpoint/run1/model-1000\n"
     ]
    }
   ],
   "source": [
    "sess = gpt2.start_tf_sess()\n",
    "gpt2.load_gpt2(sess)"
   ]
  },
  {
   "cell_type": "code",
   "execution_count": 15,
   "metadata": {},
   "outputs": [],
   "source": [
    "def generateOutput(words):\n",
    "    text = gpt2.generate(sess,\n",
    "                  length=200,\n",
    "                  temperature=0.7,\n",
    "                  prefix=words,\n",
    "                  nsamples=1,\n",
    "                  batch_size=1,\n",
    "                  include_prefix = True,\n",
    "                  return_as_list = True\n",
    "                  )\n",
    "    print(type(text))\n",
    "    return text"
   ]
  },
  {
   "cell_type": "code",
   "execution_count": 16,
   "metadata": {},
   "outputs": [
    {
     "name": "stdout",
     "output_type": "stream",
     "text": [
      "<class 'list'>\n"
     ]
    }
   ],
   "source": [
    "text1 = generateOutput(\"thanks\")"
   ]
  },
  {
   "cell_type": "code",
   "execution_count": 24,
   "metadata": {},
   "outputs": [],
   "source": [
    "text_clean = [i.replace('\"', '') for i in text1]"
   ]
  },
  {
   "cell_type": "code",
   "execution_count": 28,
   "metadata": {},
   "outputs": [
    {
     "name": "stdout",
     "output_type": "stream",
     "text": [
      "thanks to your support, we are gonna get the fuck out. I’ve got no idea how we got to this point. We’re just a bunch of fucking fucking dumb fucking, fucking dumb fucking, fuck you, fucking dumb fucking, fuck you!”', 'Save my name, email, and website in this browser for the next time I comment.', '']['You’re the only ones who are gonna tell me what to do in my show, and I know that you’ve been open with me about what you’re gonna say to me in the show, and I have to tell you why, because I know the best way to end my show is to say something stupid and unusual. It’s not a good way to end a show. It’s a horrible way to end a show. Here’s what I’m gonna tell you. It’s a good way to end a show.\n"
     ]
    }
   ],
   "source": [
    "print(text1[0])"
   ]
  },
  {
   "cell_type": "code",
   "execution_count": 29,
   "metadata": {},
   "outputs": [],
   "source": [
    "import json\n",
    "with open('static/store.json','r') as fp:\n",
    "    fp = fp.read()"
   ]
  },
  {
   "cell_type": "code",
   "execution_count": 37,
   "metadata": {},
   "outputs": [],
   "source": [
    "data1 = {'1':{'computer': 'sure'},'2':{'computer': 'false'},}\n",
    "data2 ={'3':{'computer': 'whatever'}}\n",
    "data3 = data1.copy()\n",
    "data3.update(data2)"
   ]
  },
  {
   "cell_type": "code",
   "execution_count": 38,
   "metadata": {},
   "outputs": [
    {
     "data": {
      "text/plain": [
       "{'1': {'computer': 'sure'},\n",
       " '2': {'computer': 'false'},\n",
       " '3': {'computer': 'whatever'}}"
      ]
     },
     "execution_count": 38,
     "metadata": {},
     "output_type": "execute_result"
    }
   ],
   "source": [
    "data3"
   ]
  },
  {
   "cell_type": "code",
   "execution_count": 42,
   "metadata": {},
   "outputs": [],
   "source": [
    "data1.update(data2)"
   ]
  },
  {
   "cell_type": "code",
   "execution_count": 43,
   "metadata": {},
   "outputs": [
    {
     "data": {
      "text/plain": [
       "{'1': {'computer': 'sure'},\n",
       " '2': {'computer': 'false'},\n",
       " '3': {'computer': 'whatever'}}"
      ]
     },
     "execution_count": 43,
     "metadata": {},
     "output_type": "execute_result"
    }
   ],
   "source": [
    "data1"
   ]
  },
  {
   "cell_type": "code",
   "execution_count": 44,
   "metadata": {},
   "outputs": [],
   "source": [
    "! touch new.json"
   ]
  },
  {
   "cell_type": "code",
   "execution_count": 45,
   "metadata": {},
   "outputs": [],
   "source": [
    "with open('new.json','w') as fp:\n",
    "    json.dump(data1,fp)"
   ]
  },
  {
   "cell_type": "code",
   "execution_count": 50,
   "metadata": {},
   "outputs": [],
   "source": [
    "with open('static/store.json', 'r') as f:\n",
    "        datastore = json.load(f)"
   ]
  },
  {
   "cell_type": "code",
   "execution_count": 57,
   "metadata": {},
   "outputs": [],
   "source": [
    "datastore['all'].update(data1)"
   ]
  },
  {
   "cell_type": "code",
   "execution_count": 59,
   "metadata": {},
   "outputs": [
    {
     "data": {
      "text/plain": [
       "{'all': {'0': {'turn': 'computer',\n",
       "   'line': 'have you ever noticed that it is the voracious eater that has the most calories? We’ve got the most calories of any food, the most calories of any animal.” And it’s true that, with all the calories we burn, we can’t do anything about that. We just lose it. “We’ll eat all the calories that we have.” That’s true. That’s true. If you’ve ever done anything to lose weight, you’ve seen that he’ve got a really good grip on the food, he’s got a really good hand on the food. He’s got a real grip on the food, and he’s got a real hand on the food. You look at a bowl here, and you think, “Wow, I’ve got a bowl of macaroni and cheese. Do I have to add water?'},\n",
       "  '1': {'computer': 'sure'},\n",
       "  '2': {'computer': 'false'},\n",
       "  '3': {'computer': 'whatever'}}}"
      ]
     },
     "execution_count": 59,
     "metadata": {},
     "output_type": "execute_result"
    }
   ],
   "source": [
    "datastore"
   ]
  },
  {
   "cell_type": "markdown",
   "metadata": {},
   "source": [
    "Testing is the new string can strip the old prefix"
   ]
  },
  {
   "cell_type": "code",
   "execution_count": 3,
   "metadata": {},
   "outputs": [],
   "source": [
    "sen1 = \"Hello, darkness my older friend.\""
   ]
  },
  {
   "cell_type": "code",
   "execution_count": 5,
   "metadata": {},
   "outputs": [],
   "source": [
    "sen2 = \"Hello, darkness my older friend. Because the wishes keep.\""
   ]
  },
  {
   "cell_type": "code",
   "execution_count": 8,
   "metadata": {},
   "outputs": [
    {
     "name": "stdout",
     "output_type": "stream",
     "text": [
      "Because the wishes keep\n"
     ]
    }
   ],
   "source": [
    "print(sen2.strip(sen1))"
   ]
  },
  {
   "cell_type": "markdown",
   "metadata": {},
   "source": [
    "Figuring out the type of dict output, which constanly becomes the problem between transporting dictionary from python to JSON to javascript"
   ]
  },
  {
   "cell_type": "code",
   "execution_count": 16,
   "metadata": {},
   "outputs": [],
   "source": [
    "import json\n",
    "post = {'turn': \"com-com agent\",\n",
    "        'line': \"textClean\"}\n",
    "newline = {\"test\": post}\n",
    "with open('static/store.json', 'r') as f:\n",
    "    currentList = json.load(f) \n",
    "currentList.update(newline)"
   ]
  },
  {
   "cell_type": "code",
   "execution_count": 18,
   "metadata": {},
   "outputs": [
    {
     "data": {
      "text/plain": [
       "dict"
      ]
     },
     "execution_count": 18,
     "metadata": {},
     "output_type": "execute_result"
    }
   ],
   "source": [
    "type(currentList)"
   ]
  },
  {
   "cell_type": "code",
   "execution_count": 2,
   "metadata": {},
   "outputs": [],
   "source": [
    "import json\n",
    "with open('static/store.json') as blog_file:\n",
    "    data = json.load(blog_file)\n",
    "    lines = [data]"
   ]
  },
  {
   "cell_type": "code",
   "execution_count": 6,
   "metadata": {},
   "outputs": [
    {
     "data": {
      "text/plain": [
       "'2'"
      ]
     },
     "execution_count": 6,
     "metadata": {},
     "output_type": "execute_result"
    }
   ],
   "source": [
    "num = str(len(lines[0]))\n",
    "num"
   ]
  },
  {
   "cell_type": "code",
   "execution_count": 12,
   "metadata": {},
   "outputs": [
    {
     "data": {
      "text/plain": [
       "'Sure. I love story. Whose story should we tell?'"
      ]
     },
     "execution_count": 12,
     "metadata": {},
     "output_type": "execute_result"
    }
   ],
   "source": [
    "lines[0][str(int(num)-1)]['line']"
   ]
  },
  {
   "cell_type": "code",
   "execution_count": 5,
   "metadata": {},
   "outputs": [],
   "source": [
    "import json\n",
    "with open('static/store.json', 'r') as f:\n",
    "    currentList = json.load(f) \n",
    "    lines = [currentList]"
   ]
  },
  {
   "cell_type": "code",
   "execution_count": 16,
   "metadata": {},
   "outputs": [
    {
     "data": {
      "text/plain": [
       "'man'"
      ]
     },
     "execution_count": 16,
     "metadata": {},
     "output_type": "execute_result"
    }
   ],
   "source": [
    "num = str(len(lines[0]))\n",
    "num =str(int(num)-1)\n",
    "currentList[num]['line']"
   ]
  },
  {
   "cell_type": "code",
   "execution_count": null,
   "metadata": {},
   "outputs": [],
   "source": []
  }
 ],
 "metadata": {
  "kernelspec": {
   "display_name": "Python 3",
   "language": "python",
   "name": "python3"
  },
  "language_info": {
   "codemirror_mode": {
    "name": "ipython",
    "version": 3
   },
   "file_extension": ".py",
   "mimetype": "text/x-python",
   "name": "python",
   "nbconvert_exporter": "python",
   "pygments_lexer": "ipython3",
   "version": "3.7.4"
  }
 },
 "nbformat": 4,
 "nbformat_minor": 2
}
